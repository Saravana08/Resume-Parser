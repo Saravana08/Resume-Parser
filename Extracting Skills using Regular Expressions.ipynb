{
 "cells": [
  {
   "cell_type": "code",
   "execution_count": 22,
   "metadata": {},
   "outputs": [],
   "source": [
    "import PyPDF2\n",
    "import re"
   ]
  },
  {
   "cell_type": "code",
   "execution_count": 10,
   "metadata": {},
   "outputs": [
    {
     "name": "stdout",
     "output_type": "stream",
     "text": [
      " POOJA BHOJWANI\n",
      "Data Scientist\n",
      "\n",
      " (250) 893 8326\n",
      " pooja-bhojwani.github.io\n",
      " poojabhojwani10@gmail.com\n",
      " /in/pooja-bhojwani-\n",
      "\n",
      "159420105/\n",
      "\n",
      " Pooja-Bhojwani\n",
      "\n",
      "Skills\n",
      "Overview\n",
      "\n",
      "Machine\n",
      "Learning\n",
      "\n",
      "Spark\n",
      "\n",
      "NLP\n",
      "\n",
      "Data\n",
      "\n",
      "Scientist\n",
      "\n",
      "Statistical\n",
      "Analysis\n",
      "\n",
      "Fraud\n",
      "Analytics\n",
      "\n",
      "Data\n",
      "\n",
      "Visualization\n",
      "\n",
      "Programming\n",
      "Sklearn • Pandas • Spark • Hadoop\n",
      "5000 LOC\n",
      "0 LOC\n",
      "Git • Docker • Python • Linux\n",
      "\n",
      "PyTorch • SQL\n",
      "\n",
      "Java • R • Cassandra\n",
      "\n",
      "Projects\n",
      "Linked-eed - (Indeed + LinkedIn)\n",
      "Matches your LinkedIn skills to the jobs\n",
      "in Indeed and ﬁnds the right job for\n",
      "you.  \n",
      "Smile to Unlock - Identiﬁes the person\n",
      "facing webcam, detects his/her emo-\n",
      "tions and unlocks if it ﬁnds right per-\n",
      "son with right emotions  \n",
      "SkLearn Tutorial - Turorial for Sklearn\n",
      "core concepts and pipelining in Sklearn\n",
      "\n",
      "Experience\n",
      "\n",
      "Jan 2018 -\n",
      "Present\n",
      "\n",
      "Data Scientist\n",
      "Fraud Analytics\n",
      "• Lead data scientist (team of 6) for end-to-end model development\n",
      "\n",
      "Scotiabank\n",
      "\n",
      "and inference of Cheque Fraud prediction product\n",
      "\n",
      "• Built a product (from modelling to deployment, with a team of four\n",
      "people) for Account Take Over(ATO) predictions, currently deployed\n",
      "to production, adding incremental value of $100,000 per month\n",
      "\n",
      "Branch Optimization\n",
      "• Working on branch optimization problem for branches across diﬀer-\n",
      "ent countries (Mexico, CCAU, Chile and Peru), currently accepted\n",
      "solution for Mexico, added a business value of $10MM\n",
      "\n",
      "Document Veriﬁcation\n",
      "• Worked on natural language processing tool for trade document\n",
      "\n",
      "comparison and veriﬁcation\n",
      "\n",
      "Business Skills\n",
      "• Presenting and pitching projects to business audiences to attract\n",
      "internal department interest and obtain new business stakeholders\n",
      "\n",
      "Jan 2017 - Graduate Research and Teaching Assistant\n",
      "Dec 2017\n",
      "\n",
      "University of Victoria\n",
      "\n",
      "• TA for CSC 371(Database Management and Visualization), CSC\n",
      "\n",
      "421(Artiﬁcial Intelligence) and technical assistance centre\n",
      "\n",
      "May 2016 - Software Engineering Intern\n",
      "Dec 2016\n",
      "\n",
      "Change.org\n",
      "\n",
      "• Was responsible to consolidate all User access to a single stan-\n",
      "dalone service.\n",
      "It involved playing around with the legacy\n",
      "databases and unlinking the User related information from the core\n",
      "consolidated databases.\n",
      "\n",
      "HCL Technologies\n",
      "\n",
      "June 2013 - Software Engineer\n",
      "July 2015\n",
      "\n",
      "• Was a part of the project aiming for incorporating various insurance\n",
      "products and customer database into the new admin system which\n",
      "resulted in the cost saving of $3MM for AIG.\n",
      "\n",
      "Education\n",
      "2015 - 2018 MSc., Computer Science (GPA: 3.8/4.0)\n",
      "\n",
      "University of Victoria, Canada\n",
      "\n",
      "2008 - 2012 Bachelor of Engineering (GPA: 3.7/4.0)\n",
      "\n",
      "GWECA, India\n",
      "\n",
      "Awards\n",
      "\n",
      "  Best Of The Best Award - Scotiabank’s Top Individual Performance Award for\n",
      "delivering outstanding performance\n",
      "  Live Wire Award - HCL Technologies’ performance award for exceptional enthu-\n",
      "siasm and commitment\n",
      "\n",
      "Additional Activites\n",
      "\n",
      "Keynote speaker at Analytics and AI summit 2019 at Scotiabank (500+ atten-\n",
      "dees)\n",
      "Machine Learning Instructor at AI Deep Dive since Summer 2019\n",
      "Leading Pandas Cafe at Scotiabank with over 100 participants (as part of Women\n",
      "In Data Analytics Committee)  \n",
      "TA for Sentiment Classiﬁcation Workshop at TMLS November 2019\n"
     ]
    }
   ],
   "source": [
    "text = ' POOJA BHOJWANI\\nData Scientist\\n\\n\\uf10b (250) 893 8326\\n\\uf0ac pooja-bhojwani.github.io\\n\\uf003 poojabhojwani10@gmail.com\\n\\uf0e1 /in/pooja-bhojwani-\\n\\n159420105/\\n\\n\\uf09b Pooja-Bhojwani\\n\\nSkills\\nOverview\\n\\nMachine\\nLearning\\n\\nSpark\\n\\nNLP\\n\\nData\\n\\nScientist\\n\\nStatistical\\nAnalysis\\n\\nFraud\\nAnalytics\\n\\nData\\n\\nVisualization\\n\\nProgramming\\nSklearn • Pandas • Spark • Hadoop\\n5000 LOC\\n0 LOC\\nGit • Docker • Python • Linux\\n\\nPyTorch • SQL\\n\\nJava • R • Cassandra\\n\\nProjects\\nLinked-eed - (Indeed + LinkedIn)\\nMatches your LinkedIn skills to the jobs\\nin Indeed and ﬁnds the right job for\\nyou.  \\nSmile to Unlock - Identiﬁes the person\\nfacing webcam, detects his/her emo-\\ntions and unlocks if it ﬁnds right per-\\nson with right emotions  \\nSkLearn Tutorial - Turorial for Sklearn\\ncore concepts and pipelining in Sklearn\\n\\nExperience\\n\\nJan 2018 -\\nPresent\\n\\nData Scientist\\nFraud Analytics\\n• Lead data scientist (team of 6) for end-to-end model development\\n\\nScotiabank\\n\\nand inference of Cheque Fraud prediction product\\n\\n• Built a product (from modelling to deployment, with a team of four\\npeople) for Account Take Over(ATO) predictions, currently deployed\\nto production, adding incremental value of $100,000 per month\\n\\nBranch Optimization\\n• Working on branch optimization problem for branches across diﬀer-\\nent countries (Mexico, CCAU, Chile and Peru), currently accepted\\nsolution for Mexico, added a business value of $10MM\\n\\nDocument Veriﬁcation\\n• Worked on natural language processing tool for trade document\\n\\ncomparison and veriﬁcation\\n\\nBusiness Skills\\n• Presenting and pitching projects to business audiences to attract\\ninternal department interest and obtain new business stakeholders\\n\\nJan 2017 - Graduate Research and Teaching Assistant\\nDec 2017\\n\\nUniversity of Victoria\\n\\n• TA for CSC 371(Database Management and Visualization), CSC\\n\\n421(Artiﬁcial Intelligence) and technical assistance centre\\n\\nMay 2016 - Software Engineering Intern\\nDec 2016\\n\\nChange.org\\n\\n• Was responsible to consolidate all User access to a single stan-\\ndalone service.\\nIt involved playing around with the legacy\\ndatabases and unlinking the User related information from the core\\nconsolidated databases.\\n\\nHCL Technologies\\n\\nJune 2013 - Software Engineer\\nJuly 2015\\n\\n• Was a part of the project aiming for incorporating various insurance\\nproducts and customer database into the new admin system which\\nresulted in the cost saving of $3MM for AIG.\\n\\nEducation\\n2015 - 2018 MSc., Computer Science (GPA: 3.8/4.0)\\n\\nUniversity of Victoria, Canada\\n\\n2008 - 2012 Bachelor of Engineering (GPA: 3.7/4.0)\\n\\nGWECA, India\\n\\nAwards\\n\\n  Best Of The Best Award - Scotiabank’s Top Individual Performance Award for\\ndelivering outstanding performance\\n  Live Wire Award - HCL Technologies’ performance award for exceptional enthu-\\nsiasm and commitment\\n\\nAdditional Activites\\n\\nKeynote speaker at Analytics and AI summit 2019 at Scotiabank (500+ atten-\\ndees)\\nMachine Learning Instructor at AI Deep Dive since Summer 2019\\nLeading Pandas Cafe at Scotiabank with over 100 participants (as part of Women\\nIn Data Analytics Committee)  \\nTA for Sentiment Classiﬁcation Workshop at TMLS November 2019'\n",
    "print(text)"
   ]
  },
  {
   "cell_type": "code",
   "execution_count": 11,
   "metadata": {},
   "outputs": [
    {
     "data": {
      "text/plain": [
       "str"
      ]
     },
     "execution_count": 11,
     "metadata": {},
     "output_type": "execute_result"
    }
   ],
   "source": [
    "type(text)"
   ]
  },
  {
   "cell_type": "code",
   "execution_count": 12,
   "metadata": {},
   "outputs": [],
   "source": [
    "text = text.lower()"
   ]
  },
  {
   "cell_type": "code",
   "execution_count": 13,
   "metadata": {},
   "outputs": [],
   "source": [
    "patter = 'Python|NLP|Machine learning|machine_learning|SQL|Spark|Tableau'\n",
    "patter = patter.lower()"
   ]
  },
  {
   "cell_type": "code",
   "execution_count": 20,
   "metadata": {},
   "outputs": [],
   "source": [
    "pattern2 ='BSC|MSC| BE |B.E|PHD|Bachelor of Engineering'\n",
    "pattern2 = pattern2.lower()"
   ]
  },
  {
   "cell_type": "code",
   "execution_count": 15,
   "metadata": {},
   "outputs": [
    {
     "data": {
      "text/plain": [
       "'python|nlp|machine learning|machine_learning|sql|spark|tableau'"
      ]
     },
     "execution_count": 15,
     "metadata": {},
     "output_type": "execute_result"
    }
   ],
   "source": [
    "patter"
   ]
  },
  {
   "cell_type": "code",
   "execution_count": 16,
   "metadata": {},
   "outputs": [
    {
     "data": {
      "text/plain": [
       "['spark', 'nlp', 'spark', 'python', 'sql', 'machine learning']"
      ]
     },
     "execution_count": 16,
     "metadata": {},
     "output_type": "execute_result"
    }
   ],
   "source": [
    "re.findall(patter,text)"
   ]
  },
  {
   "cell_type": "code",
   "execution_count": 21,
   "metadata": {},
   "outputs": [
    {
     "data": {
      "text/plain": [
       "['ble', 'ble', 'msc', 'bachelor of engineering']"
      ]
     },
     "execution_count": 21,
     "metadata": {},
     "output_type": "execute_result"
    }
   ],
   "source": [
    "re.findall(pattern2,text)"
   ]
  }
 ],
 "metadata": {
  "kernelspec": {
   "display_name": "Python 3",
   "language": "python",
   "name": "python3"
  },
  "language_info": {
   "codemirror_mode": {
    "name": "ipython",
    "version": 3
   },
   "file_extension": ".py",
   "mimetype": "text/x-python",
   "name": "python",
   "nbconvert_exporter": "python",
   "pygments_lexer": "ipython3",
   "version": "3.6.4"
  }
 },
 "nbformat": 4,
 "nbformat_minor": 2
}
